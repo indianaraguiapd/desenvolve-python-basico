{
 "cells": [
  {
   "cell_type": "markdown",
   "id": "29e89030",
   "metadata": {},
   "source": [
    "# Módulo 4 - Repetições\n",
    "\n",
    "## Aulas 4.2 - Comando ```for``` e 4.3 Break e Continue"
   ]
  },
  {
   "cell_type": "markdown",
   "id": "a45b42df",
   "metadata": {},
   "source": [
    "### Q1.\n",
    "\n",
    "Crie um programa em Python que utilize o comando for para imprimir os números de 10 a 1, em ordem decrescente."
   ]
  },
  {
   "cell_type": "code",
   "execution_count": 25,
   "id": "55a75b3d",
   "metadata": {},
   "outputs": [
    {
     "name": "stdout",
     "output_type": "stream",
     "text": [
      "10\n",
      "9\n",
      "8\n",
      "7\n",
      "6\n",
      "5\n",
      "4\n",
      "3\n",
      "2\n",
      "1\n"
     ]
    }
   ],
   "source": [
    "#\n",
    "# Escreva e execute seu código aqui\n",
    "# Imprimir os números de 10 a 1 em ordem decrescente\n",
    "for i in range(10, 0, -1):\n",
    "    print(i)\n",
    "\n"
   ]
  },
  {
   "cell_type": "markdown",
   "id": "94b47c36",
   "metadata": {},
   "source": [
    "### Q2.\n",
    "\n",
    "Dado um número inteiro positivo informado pelo usuário, crie um programa em Python que utilize o comando for para calcular e exibir a soma dos números de 1 até o número informado. Ou seja, $1 + 2 + 3 + ... + n$\n",
    "\n",
    "Exemplo de interação:\n",
    "```\n",
    "Digite um número: 5\n",
    "A soma dos números de 1 a 5 é 15\n",
    "```\n"
   ]
  },
  {
   "cell_type": "code",
   "execution_count": 29,
   "id": "45b71596",
   "metadata": {},
   "outputs": [
    {
     "name": "stdin",
     "output_type": "stream",
     "text": [
      "Digite um número inteiro positivo:  5\n"
     ]
    },
    {
     "name": "stdout",
     "output_type": "stream",
     "text": [
      "A soma dos números de 1 até 5 é: 15\n"
     ]
    }
   ],
   "source": [
    "## Escreva e execute seu código aqui\n",
    "# Ler um número inteiro positivo\n",
    "n = int(input(\"Digite um número inteiro positivo: \"))\n",
    "\n",
    "# Inicializar a variável soma\n",
    "soma = 0\n",
    "\n",
    "# Calcular a soma dos números de 1 até n\n",
    "for i in range(1, n + 1):\n",
    "    soma += i  # Adiciona i à soma\n",
    "\n",
    "# Exibir o resultado\n",
    "print(f\"A soma dos números de 1 até {n} é: {soma}\")\n"
   ]
  },
  {
   "cell_type": "markdown",
   "id": "0411d170",
   "metadata": {},
   "source": [
    "### Q3.\n",
    "\n",
    "Escreva um programa que lê 10 valores inteiros positivos do usuário e ao final imprime a média dos valores digitados com duas casas decimais.\n",
    "\n",
    "```\n",
    "Digite 10 números positivos:\n",
    "3\n",
    "2\n",
    "12\n",
    "14\n",
    "20\n",
    "42\n",
    "19\n",
    "0\n",
    "8\n",
    "1\n",
    "A média dos valores digitados é 12.10\n",
    "```"
   ]
  },
  {
   "cell_type": "code",
   "execution_count": null,
   "id": "3f72f358",
   "metadata": {},
   "outputs": [],
   "source": [
    "## Escreva e execute seu código aqui\n",
    "# entrada\n",
    "soma = 0\n",
    "contador = 10\n",
    "\n",
    "# Ler 10 valores inteiros positivos\n",
    "for i in range(contador):\n",
    "    while True:  # Loop para garantir que o usuário insira um número positivo\n",
    "        valor = int(input(f\"Digite o valor {i + 1} (inteiro positivo): \"))\n",
    "        if valor > 0:  # Verifica se o valor é positivo\n",
    "            soma += valor  # Adiciona o valor à soma\n",
    "            break  # Sai do loop se o valor for válido\n",
    "        else:\n",
    "            print(\"Por favor, insira um número inteiro positivo.\")\n",
    "\n",
    "# Calcular a média\n",
    "media = soma / contador\n",
    "\n",
    "# saida\n",
    "print(f\"A média dos valores digitados é: {media:.2f}\")\n"
   ]
  },
  {
   "cell_type": "markdown",
   "id": "d62e27ff",
   "metadata": {},
   "source": [
    "### Q4.\n",
    "\n",
    "Você vai criar um sistema que registra os resultados dos jogos do Atlético MG ao longo de um campeonato. Seu sistema vai receber os resultados de todos os jogos do Galo, e deve calcular a pontuação do time sabendo que vitórias valem 3 pontos, empates 1 ponto e derrotas 0 pontos.\n",
    "\n",
    "Entrada: <br>\n",
    "A primeira linha de entrada é um inteiro N com a quantidade jogos do galo. Para cada jogo você deve ler 2 inteiros, o primeiro com a quantidade de gols do galo e o segundo com a quantidade de gols do time oponente. \n",
    "\n",
    "Saída: <br>\n",
    "Apresente a soma de vitórias, empates e derrotas do galo, junto com o cálculo da pontuação total.\n",
    "\n",
    "Ex:\n",
    "```\n",
    "Entrada:\n",
    "4\n",
    "2\n",
    "0\n",
    "1\n",
    "1\n",
    "0\n",
    "3\n",
    "1\n",
    "0\n",
    "\n",
    "Saída:\n",
    "Vitórias: 2\n",
    "Empates: 1\n",
    "Derrotas: 1\n",
    "Pontuação: 7\n",
    "\n",
    "```\n",
    "\n",
    "\n"
   ]
  },
  {
   "cell_type": "code",
   "execution_count": 17,
   "id": "d3fdfc2a",
   "metadata": {},
   "outputs": [
    {
     "name": "stdin",
     "output_type": "stream",
     "text": [
      "Digite a quantidade de jogos do Galo:  4\n"
     ]
    },
    {
     "name": "stdout",
     "output_type": "stream",
     "text": [
      "\n",
      "Jogo 1:\n"
     ]
    },
    {
     "name": "stdin",
     "output_type": "stream",
     "text": [
      "Digite os gols do Galo:  2\n",
      "Digite os gols do oponente:  0\n",
      "Deseja interromper o registro dos jogos? (s/n):  n\n"
     ]
    },
    {
     "name": "stdout",
     "output_type": "stream",
     "text": [
      "\n",
      "Jogo 2:\n"
     ]
    },
    {
     "name": "stdin",
     "output_type": "stream",
     "text": [
      "Digite os gols do Galo:  1\n",
      "Digite os gols do oponente:  1\n",
      "Deseja interromper o registro dos jogos? (s/n):  n\n"
     ]
    },
    {
     "name": "stdout",
     "output_type": "stream",
     "text": [
      "\n",
      "Jogo 3:\n"
     ]
    },
    {
     "name": "stdin",
     "output_type": "stream",
     "text": [
      "Digite os gols do Galo:  0\n",
      "Digite os gols do oponente:  3\n",
      "Deseja interromper o registro dos jogos? (s/n):  n\n"
     ]
    },
    {
     "name": "stdout",
     "output_type": "stream",
     "text": [
      "\n",
      "Jogo 4:\n"
     ]
    },
    {
     "name": "stdin",
     "output_type": "stream",
     "text": [
      "Digite os gols do Galo:  1\n",
      "Digite os gols do oponente:  0\n",
      "Deseja interromper o registro dos jogos? (s/n):  s\n"
     ]
    },
    {
     "name": "stdout",
     "output_type": "stream",
     "text": [
      "\n",
      "Resultados:\n",
      "Vitórias: 2\n",
      "Empates: 1\n",
      "Derrotas: 1\n",
      "Pontuação total: 7\n"
     ]
    }
   ],
   "source": [
    "## Escreva e execute seu código aqui\n",
    "#Entrada\n",
    "# Solicita a quantidade de jogos do Galo\n",
    "N = int(input(\"Digite a quantidade de jogos do Galo: \"))\n",
    "\n",
    "\n",
    "vitorias = 0\n",
    "empates = 0\n",
    "derrotas = 0\n",
    "pontuacao = 0\n",
    "\n",
    "for i in range(N):\n",
    "    print(f\"\\nJogo {i+1}:\")\n",
    "    gols_galo = int(input(\"Digite os gols do Galo: \"))\n",
    "    gols_oponente = int(input(\"Digite os gols do oponente: \"))\n",
    "    \n",
    "    #processo\n",
    "    if gols_galo > gols_oponente:\n",
    "        vitorias += 1\n",
    "        pontuacao += 3\n",
    "    elif gols_galo == gols_oponente:\n",
    "        empates += 1\n",
    "        pontuacao += 1\n",
    "    else:\n",
    "        derrotas += 1\n",
    "\n",
    "\n",
    "    sair = input(\"Deseja interromper o registro dos jogos? (s/n): \").lower()\n",
    "    if sair == 's':\n",
    "        break\n",
    "\n",
    "# Saída\n",
    "print(\"\\nResultados:\")\n",
    "print(f\"Vitórias: {vitorias}\")\n",
    "print(f\"Empates: {empates}\")\n",
    "print(f\"Derrotas: {derrotas}\")\n",
    "print(f\"Pontuação total: {pontuacao}\")\n"
   ]
  },
  {
   "cell_type": "markdown",
   "id": "fc98604d",
   "metadata": {},
   "source": [
    "### Q5.\n",
    "\n",
    "Faça um programa que lê dois inteiros N e M, e imprime na tela um campo de batalha naval. O tabuleiro deve possuir N linhas e M colunas. A primeira linha é composta por um espaço em branco e o cabeçalho das colunas, ou seja, valores de 1 a M. As N linhas seguintes iniciam com o cabeçalho da linha, ou seja, seu número, seguido de M caracteres \"/\" (barra) indicando uma possível posição jogável. \n",
    "\n",
    "```\n",
    "Entrada:\n",
    "5\n",
    "4\n",
    "\n",
    "Saída:\n",
    "  1 2 3 4 \n",
    "1 / / / / \n",
    "2 / / / / \n",
    "3 / / / / \n",
    "4 / / / / \n",
    "5 / / / / \n",
    "```\n",
    "\n",
    "Para esse exercício, precisamos lembrar que o comando print implicitamente adiciona uma quebra de linha ao final da impressão. Podemos interferir no final da impressão adicionando mais uma entrada ao print. No exemplo, finalizamos cada linha com um espaço em branco:\n",
    "```python\n",
    "print(\"Texto qualquer\", end = \" \")\n",
    "```"
   ]
  },
  {
   "cell_type": "code",
   "execution_count": 13,
   "id": "a60ef197",
   "metadata": {},
   "outputs": [
    {
     "name": "stdin",
     "output_type": "stream",
     "text": [
      "Digite o número de linhas (N):  5\n",
      "Digite o número de colunas (M):  4\n"
     ]
    },
    {
     "name": "stdout",
     "output_type": "stream",
     "text": [
      "  1 2 3 4 \n",
      "1 / / / / \n",
      "2 / / / / \n",
      "3 / / / / \n",
      "4 / / / / \n",
      "5 / / / / \n"
     ]
    }
   ],
   "source": [
    "## Escreva e execute seu código aqui\n",
    "# Lê os valores de N e M\n",
    "N = int(input(\"Digite o número de linhas (N): \"))\n",
    "M = int(input(\"Digite o número de colunas (M): \"))\n",
    "\n",
    "# Imprime o cabeçalho da coluna\n",
    "print(\" \", end=\" \")  # espaço em branco no início\n",
    "for coluna in range(1, M + 1):\n",
    "    print(coluna, end=\" \")\n",
    "print()  # pula para a próxima linha\n",
    "\n",
    "# Imprime as linhas do campo de batalha\n",
    "for linha in range(1, N + 1):\n",
    "    print(linha, end=\" \")  # imprime o cabeçalho da linha\n",
    "    for coluna in range(M):\n",
    "        print(\"/\", end=\" \")  # imprime a barra\n",
    "    print()  # pula para a próxima linha\n"
   ]
  },
  {
   "cell_type": "markdown",
   "id": "4654dc0b",
   "metadata": {},
   "source": [
    "---\n",
    "## Break e Continue"
   ]
  },
  {
   "cell_type": "markdown",
   "id": "24fe9d85",
   "metadata": {},
   "source": [
    "### Q6.\n",
    "\n",
    "Escreva um programa que lê uma quantidade indefinida de valores e informa o maior e o menor valor digitados. A leitura é encerrada quando o usuário digitar o valor 0 (zero).\n",
    "\n",
    "```\n",
    "Entrada:\n",
    "12\n",
    "-1\n",
    "29\n",
    "11\n",
    "-5\n",
    "0\n",
    "\n",
    "Saída:\n",
    "Maior: 29\n",
    "Menor: -5\n",
    "```"
   ]
  },
  {
   "cell_type": "code",
   "execution_count": 11,
   "id": "ee1c466a",
   "metadata": {},
   "outputs": [
    {
     "name": "stdin",
     "output_type": "stream",
     "text": [
      "Digite um valor (0 para encerrar):  12\n",
      "Digite um valor (0 para encerrar):  -1\n",
      "Digite um valor (0 para encerrar):  29\n",
      "Digite um valor (0 para encerrar):  11\n",
      "Digite um valor (0 para encerrar):  -5\n",
      "Digite um valor (0 para encerrar):  0\n"
     ]
    },
    {
     "name": "stdout",
     "output_type": "stream",
     "text": [
      "Maior valor: 29\n",
      "Menor valor: -5\n"
     ]
    }
   ],
   "source": [
    "## Escreva e execute seu código aqui\n",
    "# Inicializa as variáveis para armazenar o maior e o menor valor\n",
    "maior = None\n",
    "menor = None\n",
    "\n",
    "# Loop para ler os valores indefinidamente\n",
    "while True:\n",
    "    valor = int(input(\"Digite um valor (0 para encerrar): \"))\n",
    "    \n",
    "    # Condição de parada\n",
    "    if valor == 0:\n",
    "        break\n",
    "    \n",
    "    # Inicializa o maior e menor valor na primeira iteração\n",
    "    if maior is None and menor is None:\n",
    "        maior = valor\n",
    "        menor = valor\n",
    "    else:\n",
    "        # Verifica se o valor digitado é maior ou menor\n",
    "        if valor > maior:\n",
    "            maior = valor\n",
    "        if valor < menor:\n",
    "            menor = valor\n",
    "\n",
    "# Exibe os resultados\n",
    "if maior is not None and menor is not None:\n",
    "    print(f\"Maior valor: {maior}\")\n",
    "    print(f\"Menor valor: {menor}\")\n",
    "else:\n",
    "    print(\"Nenhum valor foi digitado.\")\n"
   ]
  },
  {
   "cell_type": "markdown",
   "id": "30d486f7",
   "metadata": {},
   "source": [
    "### Q7.\n",
    "\n",
    "Escreva um programa que lê uma quantidade indefinida de valores e informa o **produto** dos valores positivos digitados. A leitura é encerrada quando o usuário digitar o valor 0 (zero).\n",
    "\n",
    "```\n",
    "Entrada:\n",
    "2\n",
    "-1\n",
    "1\n",
    "3\n",
    "-5\n",
    "0\n",
    "\n",
    "Saída:\n",
    "Produto: 6\n",
    "```"
   ]
  },
  {
   "cell_type": "code",
   "execution_count": 19,
   "id": "2f1ac324",
   "metadata": {},
   "outputs": [
    {
     "name": "stdin",
     "output_type": "stream",
     "text": [
      "Digite um valor (0 para encerrar):  2\n",
      "Digite um valor (0 para encerrar):  -1\n",
      "Digite um valor (0 para encerrar):  1\n",
      "Digite um valor (0 para encerrar):  3\n",
      "Digite um valor (0 para encerrar):  -5\n",
      "Digite um valor (0 para encerrar):  0\n"
     ]
    },
    {
     "name": "stdout",
     "output_type": "stream",
     "text": [
      "O produto dos valores positivos digitados é: 6\n"
     ]
    }
   ],
   "source": [
    "## Escreva e execute seu código aqui\n",
    "# Entrada\n",
    "# Inicializa a variável para o produto dos valores positivos\n",
    "produto = 1\n",
    "encontrou_positivo = False  # Flag para verificar se houve valor positivo\n",
    "\n",
    "\n",
    "while True:\n",
    "    valor = int(input(\"Digite um valor (0 para encerrar): \"))\n",
    "    \n",
    "    # Condição de parada\n",
    "    if valor == 0:\n",
    "        break\n",
    "    \n",
    "    # Verifica se o valor digitado é positivo\n",
    "    if valor > 0:\n",
    "        produto *= valor  # Multiplica o produto pelo valor positivo\n",
    "        encontrou_positivo = True  # Marca que um valor positivo foi encontrado\n",
    "\n",
    "# Saída\n",
    "if encontrou_positivo:\n",
    "    print(f\"O produto dos valores positivos digitados é: {produto}\")\n",
    "else:\n",
    "    print(\"Nenhum valor positivo foi digitado.\")\n"
   ]
  },
  {
   "cell_type": "markdown",
   "id": "e932f3cf",
   "metadata": {},
   "source": [
    "### Q8.\n",
    "\n",
    "Vamos fazer uma calculadora que aceita expressões aritméticas de qualquer tamanho até que o usuário digite a palavra \"Fim\". Sua calculadora executa apenas as operações \"+\", \"-\".\n",
    "\n",
    "```\n",
    "Entrada:\n",
    "5\n",
    "+\n",
    "8\n",
    "-\n",
    "3\n",
    "+\n",
    "2\n",
    "Fim\n",
    "\n",
    "Saída:\n",
    "12\n",
    "```"
   ]
  },
  {
   "cell_type": "code",
   "execution_count": 23,
   "id": "e835d870",
   "metadata": {},
   "outputs": [
    {
     "name": "stdin",
     "output_type": "stream",
     "text": [
      "Digite uma expressão (ou 'Fim' para encerrar):  5+8-3+2\n"
     ]
    },
    {
     "name": "stdout",
     "output_type": "stream",
     "text": [
      "Resultado: 12\n"
     ]
    },
    {
     "name": "stdin",
     "output_type": "stream",
     "text": [
      "Digite uma expressão (ou 'Fim' para encerrar):  fim\n"
     ]
    },
    {
     "name": "stdout",
     "output_type": "stream",
     "text": [
      "Encerrando a calculadora.\n"
     ]
    }
   ],
   "source": [
    "## Escreva e execute seu código aqui\n",
    "while True:\n",
    "    #entrada\n",
    "    expressao = input(\"Digite uma expressão (ou 'Fim' para encerrar): \")\n",
    "    \n",
    "    # Condição \n",
    "    if expressao.lower() == \"fim\":\n",
    "        print(\"Encerrando a calculadora.\")\n",
    "        break\n",
    "    try:\n",
    "        # Verifica se a expressão contém apenas os operadores permitidos\n",
    "        if '+' in expressao or '-' in expressao:\n",
    "            # Calcula o resultado \n",
    "            resultado = eval(expressao)\n",
    "            print(f\"Resultado: {resultado}\")\n",
    "        else:\n",
    "            print(\"Erro: Apenas operações '+' e '-' são permitidas.\")\n",
    "    except Exception as e:\n",
    "        print(f\"Erro ao calcular a expressão: {e}\")\n"
   ]
  },
  {
   "cell_type": "code",
   "execution_count": null,
   "id": "5e4c2201-f02e-4993-8204-cab0904cb213",
   "metadata": {},
   "outputs": [],
   "source": []
  }
 ],
 "metadata": {
  "kernelspec": {
   "display_name": "anaconda-ai-2024.04-py310",
   "language": "python",
   "name": "conda-env-anaconda-ai-2024.04-py310-py"
  },
  "language_info": {
   "codemirror_mode": {
    "name": "ipython",
    "version": 3
   },
   "file_extension": ".py",
   "mimetype": "text/x-python",
   "name": "python",
   "nbconvert_exporter": "python",
   "pygments_lexer": "ipython3",
   "version": "3.10.13"
  }
 },
 "nbformat": 4,
 "nbformat_minor": 5
}
