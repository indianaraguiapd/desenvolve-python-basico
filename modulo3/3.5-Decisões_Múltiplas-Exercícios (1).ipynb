{
 "cells": [
  {
   "cell_type": "markdown",
   "id": "559687a1",
   "metadata": {},
   "source": [
    "# Módulo 3 - Condicionais\n",
    "\n",
    "## 3.5 - Decisões Múltiplas"
   ]
  },
  {
   "cell_type": "markdown",
   "id": "42f823b3",
   "metadata": {},
   "source": [
    "### Q1.\n",
    "\n",
    "Vamos fazer uma calculadora! Escreva um programa que solicita 3 entradas: o primeiro operando (float), o operador (caracter) e o segundo operando (float). Seu programa deve imprimir o resultado da operação solicitada, entre soma (+), subtração (-), divisão (/), multiplicação (\\*) ou potência (\\*\\*). Seu programa também deve imprimir uma mensagem de erro se a operação solicitada não estiver dentre as opções disponíveis.\n",
    "\n",
    "Seguem alguns exemplos de interação com seu código no terminal. \n",
    "\n",
    "\n",
    "```\n",
    "Digite o primeiro operando: 5.2\n",
    "Digite o operador (+, -, /, *, **): *\n",
    "Digite o segundo operando` 3\n",
    "Resultado: 5.2 * 3.0 = 15.6\n",
    "```\n",
    "\n",
    "```\n",
    "Digite o primeiro operando: 8\n",
    "Digite o operador (+, -, /, *, **): **\n",
    "Digite o segundo operando: 2\n",
    "Resultado: 8.0 * 2.0 = 64.0\n",
    "```\n",
    "\n",
    "```\n",
    "Digite o primeiro operando: 7\n",
    "Digite o operador (+, -, /, *, **): %\n",
    "Digite o segundo operando: 3.4\n",
    "Erro! Operação inválida. \n",
    "```\n",
    "\n",
    "```\n",
    "Digite o primeiro operando: 10\n",
    "Digite o operador (+, -, /, *, **): /\n",
    "Digite o segundo operando: 2.5\n",
    "Resultado: 10.0 / 2.5 = 4.0\n",
    "```\n",
    "\n"
   ]
  },
  {
   "cell_type": "code",
   "execution_count": 19,
   "id": "9fa6ed1e-cd73-4e01-99e7-98909424c885",
   "metadata": {},
   "outputs": [
    {
     "name": "stdin",
     "output_type": "stream",
     "text": [
      " 8\n",
      " **\n",
      " 2\n"
     ]
    },
    {
     "name": "stdout",
     "output_type": "stream",
     "text": [
      "8.0**2.0=15.600000000000001\n"
     ]
    }
   ],
   "source": [
    "n1 = float(input())\n",
    "operador = input()\n",
    "n2 = float(input())\n",
    "\n",
    "if operador == \"+\":\n",
    "    resultado = n1 + n2\n",
    "elif operador ==\"-\":\n",
    "     resultado = n1- n2\n",
    "elif operador ==\"/\":\n",
    "     resultado = n1 / n2\n",
    "elif operador ==\"*\":\n",
    "     resultado = n1 * n2\n",
    "\n",
    "print(f\"{n1}{operador}{n2}={resultado}\")"
   ]
  },
  {
   "cell_type": "code",
   "execution_count": null,
   "id": "7324dfee-0e34-4480-beb2-bb76c530e2cd",
   "metadata": {},
   "outputs": [],
   "source": []
  },
  {
   "cell_type": "markdown",
   "id": "d135df39",
   "metadata": {},
   "source": [
    "### Q2.\n",
    "\n",
    "Escreva um programa que leia os comprimentos dos 3 lados de um triângulo e diga se o triângulo é equilátero, isóceles ou escaleno. Regras:\n",
    "- Isóceles: Quaisquer dois lados com o mesmo comprimento\n",
    "- Equilátero: Os três lados tem o mesmo comprimento\n",
    "- Escaleno: Três lados de comprimento diferente \n",
    "\n",
    "Note que a ordem das condições importa! Seguem alguns exemplos de interação com seu código no terminal. \n",
    "\n",
    "```\n",
    "Digite o comprimento do lado 1: 4\n",
    "Digite o comprimento do lado 2: 4\n",
    "Digite o comprimento do lado 3: 6\n",
    "Triângulo: Isóceles\n",
    "```\n",
    "\n",
    "```\n",
    "Digite o comprimento do lado 1: 5\n",
    "Digite o comprimento do lado 2: 5\n",
    "Digite o comprimento do lado 3: 5\n",
    "Triângulo: Equilátero\n",
    "```\n",
    "\n",
    "```\n",
    "Digite o comprimento do lado 1: 7\n",
    "Digite o comprimento do lado 2: 4\n",
    "Digite o comprimento do lado 3: 9\n",
    "Triângulo: Escaleno\n",
    "```\n",
    "\n"
   ]
  },
  {
   "cell_type": "code",
   "execution_count": 22,
   "id": "cfcf9a80",
   "metadata": {},
   "outputs": [
    {
     "name": "stdin",
     "output_type": "stream",
     "text": [
      "Lado 1:  4\n",
      "Lado 2:  4\n",
      "Lado 3:  6\n"
     ]
    }
   ],
   "source": [
    "## Escreva e execute seu código aqui\n",
    "l1 =input('Lado 1: ')\n",
    "l2 =input('Lado 2: ')\n",
    "l3 =input('Lado 3: ')\n",
    "if l1 == l2 and l2 == l3:\n",
    "       print('Equilatero')\n",
    "if l1 == l2 and l2 == l3 or l1 == l3:\n",
    "       print('Isoceles')\n",
    "if l1 == l2 and l2 == l3 and l1 != l3:\n",
    "       print('Escaleno')"
   ]
  },
  {
   "cell_type": "markdown",
   "id": "ed3405fb",
   "metadata": {},
   "source": [
    "### Q3.\n",
    "\n",
    "Você está desenvolvendo um sistema de avaliação de desempenho para um jogo. Escreva um programa em Python que avalia a pontuação do jogador em uma missão e atribui uma classificação com base nas seguintes condições:\n",
    "\n",
    "- Se a pontuação for menor que 70, atribua a classificação \"Insatisfatório\".\n",
    "- Se a pontuação for maior ou igual a 70, atribua a classificação \"Regular\".\n",
    "- Se a pontuação for maior ou igual a 80, atribua a classificação \"Bom\".\n",
    "- Se a pontuação for maior ou igual a 90, atribua a classificação \"Excelente\".\n",
    "\n",
    "Escreva um programa que solicita ao usuário a pontuação e imprime a classificação correspondente."
   ]
  },
  {
   "cell_type": "code",
   "execution_count": 3,
   "id": "a7a842ae",
   "metadata": {},
   "outputs": [
    {
     "name": "stdin",
     "output_type": "stream",
     "text": [
      "digite sua pontuação 60\n"
     ]
    },
    {
     "name": "stdout",
     "output_type": "stream",
     "text": [
      "Pontuação: 60, Classificação: Insatisfatório\n"
     ]
    }
   ],
   "source": [
    "## Escreva e epxecute seu código aqui\n",
    "# Pontuação simulada\n",
    "pontuacao = int(input(\"digite sua pontuação\"))  # Pode alterar esse valor para testar diferentes classificações\n",
    "\n",
    "# Avalia a pontuação e atribui a classificação\n",
    "if pontuacao >= 90:\n",
    "    classificacao = \"Excelente\"\n",
    "elif pontuacao >= 80:\n",
    "    classificacao = \"Bom\"\n",
    "elif pontuacao >= 70:\n",
    "    classificacao = \"Regular\"\n",
    "else:\n",
    "    classificacao = \"Insatisfatório\"\n",
    "\n",
    "# Imprime a classificação correspondente\n",
    "print(f\"Pontuação: {pontuacao}, Classificação: {classificacao}\")\n",
    "\n"
   ]
  },
  {
   "cell_type": "markdown",
   "id": "6cafaa50",
   "metadata": {},
   "source": [
    "### Q4.\n",
    "\n",
    "Você está implementando um sistema de desconto em uma loja online. Escreva um programa em Python que calcula o desconto com base no valor total da compra e atribui diferentes níveis de desconto de acordo com as seguintes condições:\n",
    "\n",
    "- Se o valor total da compra for menor que R\\$ 50, não há desconto.\n",
    "- Se o valor total da compra for maior ou igual a R\\$ 50, atribua um desconto de 10%.\n",
    "- Se o valor total da compra for maior ou igual a R\\$ 100, atribua um desconto de 20%.\n",
    "\n",
    "\n",
    "Seguem alguns exemplos de interação com seu código no terminal. Preste atenção na formatação esperada para as saídas.\n",
    "\n",
    "```\n",
    "Digite o valor total da compra: 120\n",
    "Desconto aplicado: 20.0%\n",
    "Valor final com desconto: R$96.00\n",
    "```\n",
    "\n",
    "```\n",
    "Digite o valor total da compra: 65\n",
    "Desconto aplicado: 10.0%\n",
    "Valor final com desconto: R$58.50\n",
    "```\n",
    "\n",
    "```\n",
    "Digite o valor total da compra: 40\n",
    "Desconto aplicado: 0.0%\n",
    "Valor final com desconto: R$40.00\n",
    "```\n",
    "\n",
    "\n"
   ]
  },
  {
   "cell_type": "code",
   "execution_count": 5,
   "id": "3b1b1929",
   "metadata": {},
   "outputs": [
    {
     "name": "stdin",
     "output_type": "stream",
     "text": [
      "Digite o valor total da compra: R$  120\n"
     ]
    },
    {
     "name": "stdout",
     "output_type": "stream",
     "text": [
      "Valor total: R$ 120.00\n",
      "Desconto: R$ 24.00\n",
      "Valor final: R$ 96.00\n"
     ]
    }
   ],
   "source": [
    "## Escreva e execute seu código aqui\n",
    "                #ENTRADA\n",
    "# Solicitar o valor total da compra\n",
    "valor_total = float(input(\"Digite o valor total da compra: R$ \"))\n",
    "\n",
    "               #PROCESSO\n",
    "\n",
    "# Calculando o desconto com base no valor total da compra\n",
    "if valor_total >= 100:\n",
    "    desconto = 0.20 * valor_total\n",
    "    valor_final = valor_total - desconto\n",
    "elif valor_total >= 50:\n",
    "    desconto = 0.10 * valor_total\n",
    "    valor_final = valor_total - desconto\n",
    "else:\n",
    "    desconto = 0.00\n",
    "    valor_final = valor_total\n",
    "\n",
    "          #SAÍDA\n",
    "\n",
    "# Exibe o valor original, o desconto aplicado e o valor final\n",
    "print(f\"Valor total: R$ {valor_total:.2f}\")\n",
    "print(f\"Desconto: R$ {desconto:.2f}\")\n",
    "print(f\"Valor final: R$ {valor_final:.2f}\")\n"
   ]
  },
  {
   "cell_type": "markdown",
   "id": "dc5db6d7",
   "metadata": {},
   "source": [
    "### Q5.\n",
    "\n",
    "Você está projetando um sistema de autenticação baseado na análise da íris (parte colorida do olho). Ao acionado, o sistema coleta e retorna 3 valores inteiros referentes a atributos da íris visível. Mas o sistema não é perfeito, tendo uma margem de erro do sensor de +/- $5$. \n",
    "\n",
    "O código abaixo tem os atributos dos 4 usuários cadastrados no sistema. Você deve completar om código, pedindo ao usuário para inserir uma nova leitura de padrão de íris. O programa deve comparar o padrão inserido com os padrões cadastrados no banco de dados. Se o padrão estiver dentro da tolerância estabelecida, o usuário é autenticado com sucesso. Caso contrário, a autenticação falha.\n",
    "\n",
    "**Dica:** A função do python ```abs()``` retorna o valor absoluto de um elemento. Ex: \n",
    "```\n",
    ">>> print(abs(987-982))\n",
    "5\n",
    ">>> print(abs(987-992))\n",
    "5\n",
    "```\n",
    "\n",
    "Seguem alguns exemplos de interação com seu código no terminal.\n",
    "\n",
    "```\n",
    "Insira o padrão de íris para autenticação.\n",
    "Atributo 1: 111\n",
    "Atributo 2: 222\n",
    "Atributo 3: 333\n",
    "Autenticação bem-sucedida! \n",
    "Usuário: 3\n",
    "```\n",
    "\n",
    "```\n",
    "Insira o padrão de íris para autenticação.\n",
    "Atributo 1: 111\n",
    "Atributo 2: 200\n",
    "Atributo 3: 333\n",
    "Autenticação falhou! \n",
    "```\n",
    "\n",
    "```\n",
    "Insira o padrão de íris para autenticação.\n",
    "Atributo 1: 982\n",
    "Atributo 2: 653\n",
    "Atributo 3: 324\n",
    "Autenticação bem-sucedida! \n",
    "Usuário: 2\n",
    "```"
   ]
  },
  {
   "cell_type": "code",
   "execution_count": 29,
   "id": "b90304eb",
   "metadata": {},
   "outputs": [],
   "source": [
    "## Não altere os atributos definidos a seguir\n",
    "iris1_a1, iris1_a2, iris1_a3 = 123, 456, 789\n",
    "iris2_a1, iris2_a2, iris2_a3 = 987, 654, 321\n",
    "iris3_a1, iris3_a2, iris3_a3 = 111, 222, 333\n",
    "iris4_a1, iris4_a2, iris4_a3 = 444, 555, 666\n",
    "\n",
    "## Escreva e execute seu código aqui"
   ]
  },
  {
   "cell_type": "code",
   "execution_count": null,
   "id": "395e5d10-c9dd-482c-af45-4f9ba85e18b3",
   "metadata": {},
   "outputs": [],
   "source": []
  }
 ],
 "metadata": {
  "kernelspec": {
   "display_name": "anaconda-panel-2023.05-py310",
   "language": "python",
   "name": "conda-env-anaconda-panel-2023.05-py310-py"
  },
  "language_info": {
   "codemirror_mode": {
    "name": "ipython",
    "version": 3
   },
   "file_extension": ".py",
   "mimetype": "text/x-python",
   "name": "python",
   "nbconvert_exporter": "python",
   "pygments_lexer": "ipython3",
   "version": "3.11.5"
  }
 },
 "nbformat": 4,
 "nbformat_minor": 5
}
