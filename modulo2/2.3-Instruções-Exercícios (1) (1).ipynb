{
 "cells": [
  {
   "cell_type": "markdown",
   "metadata": {
    "id": "1pCTdOHonv5f"
   },
   "source": [
    "# Módulo 2\n",
    "\n",
    "## 2.3 Instruções e Expressões\n",
    "\n",
    "### Q1\n",
    "\n",
    "Faça um programa que armazene o valor de 20 reais de salário por hora de um trabalhador, e o número de 40 horas trabalhadas na semana. Com essas informações, calcule e imprima:\n",
    "- Salário semanal bruto\n",
    "- Valor descontado por semana INSS (10% do bruto)\n",
    "- Valor descontado por semana pelo sindicato (5% do bruto)\n",
    "- Salário semanal líquido (Bruto - Descontos)"
   ]
  },
  {
   "cell_type": "code",
   "execution_count": 4,
   "metadata": {
    "id": "hVbX0I97nj6M"
   },
   "outputs": [
    {
     "name": "stdout",
     "output_type": "stream",
     "text": [
      "Salário semanal bruto: R$  800.00\n",
      "Valor descontado por semana INSS (10%): R$  80.00\n",
      "Valor descontado por semana sindicato (5%): R$  40.00\n",
      "Salário semanal líquido: R$  680.00\n"
     ]
    }
   ],
   "source": [
    "\n",
    "valor_hora = 20 #valor em horas #\n",
    "horas_trabalhadas_semana = 40 #número de 40 horas trabalhadas na semana.#\n",
    "\n",
    "#Salário semanal bruto#\n",
    "salario_semanal_bruto = valor_hora * horas_trabalhadas_semana\n",
    "\n",
    "#Valor descontado por semana INSS (10% do bruto)#\n",
    "desconto_inss = salario_semanal_bruto * 0.10\n",
    "\n",
    "#Valor descontado por semana pelo sindicato (5% do bruto)#\n",
    "desconto_sindicato = salario_semanal_bruto * 0.05\n",
    "\n",
    "#Salário semanal líquido (Bruto - Descontos)#\n",
    "salario_semanal_liquido = salario_semanal_bruto - (desconto_inss + desconto_sindicato)\n",
    "\n",
    "#imprimindo os resultados #\n",
    "print(f\"Salário semanal bruto: R$ {salario_semanal_bruto: .2f}\")\n",
    "print(f\"Valor descontado por semana INSS (10%): R$ {desconto_inss: .2f}\")\n",
    "print(f\"Valor descontado por semana sindicato (5%): R$ {desconto_sindicato: .2f}\")\n",
    "print(f\"Salário semanal líquido: R$ {salario_semanal_liquido: .2f}\")"
   ]
  },
  {
   "cell_type": "markdown",
   "metadata": {
    "id": "pIxKX9J2oGZ1"
   },
   "source": [
    "### Q2\n",
    "\n",
    "Altere o programa anterior para a partir dos valores de horas trabalhadas por semana e salário por hora, calcular **em somente duas instruções**:\n",
    "- Salário semanal bruto\n",
    "- Salário semanal líquido com todos os descontos. Para a segunda instrução, realize todos os cálculos aritméticos em uma expressão composta.\n"
   ]
  },
  {
   "cell_type": "code",
   "execution_count": 12,
   "metadata": {
    "id": "2bPw7uF6oeL9"
   },
   "outputs": [
    {
     "name": "stdout",
     "output_type": "stream",
     "text": [
      "Salario Semanal Bruto: R$  800.00\n",
      "Salario Semanal Líquido: R$  680.00\n"
     ]
    }
   ],
   "source": [
    "## \n",
    "#Salário Semanal Bruto#\n",
    "salario_bruto =  20 * 40\n",
    "\n",
    "#Valor descontado por semana INSS (10% do bruto)#\n",
    "#Valor descontado por semana pelo sindicato (5% do bruto)#\n",
    "\n",
    "#calculando o valor do Salário Semanal Líquido aplicando os descontos de inss e sindicato#\n",
    "salario_liquido = salario_bruto * (1 - 0.10 - 0.05)\n",
    "\n",
    "#imprimindo os resultados#\n",
    "print(f\"Salario Semanal Bruto: R$ {salario_bruto: .2f}\")\n",
    "print(f\"Salario Semanal Líquido: R$ {salario_liquido: .2f}\")"
   ]
  },
  {
   "cell_type": "markdown",
   "metadata": {
    "id": "m8tlHRuWpBOB"
   },
   "source": [
    "### Q3\n",
    "\n",
    "Você está desenvolvendo um software de conversão de moeda e precisa calcular o valor equivalente em yuan chinês a partir de uma quantia em real. A taxa de câmbio é de 0.69 BRL (real) para 1 CNY (yuan). Escreva um programa que define em uma variável uma quantia em reais (BRL) e calcula o valor equivalente em yuan (CNY). Imprima o resultado."
   ]
  },
  {
   "cell_type": "code",
   "execution_count": 12,
   "metadata": {
    "id": "2bPw7uF6oeL9"
   },
   "outputs": [
    {
     "name": "stdout",
     "output_type": "stream",
     "text": [
      "500 BR é equivalente a  724.64 CNY.\n"
     ]
    }
   ],
   "source": [
    "## Escreva e execute seu código aqui\n",
    "# Quantia em reais (BRl)\n",
    "quantia_brl = 500\n",
    "#a taxa de câmbio de BRL para CNY\n",
    "taxa_cambio = 0.69\n",
    "quantia_cny = quantia_brl / taxa_cambio\n",
    "# Imprimindo o resultado\n",
    "print(f\"{quantia_brl} BR é equivalente a {quantia_cny: .2f} CNY.\") "
   ]
  },
  {
   "cell_type": "markdown",
   "metadata": {
    "id": "-Na3ltDCp74A"
   },
   "source": [
    "### Q4\n",
    "\n",
    "Você é um treinador de corrida e deseja calcular a velocidade média que um atleta precisa manter para completar a Maratona Internacional de São Silvestre, que tem uma distância total de 42.195 km. A fórmula para calcular a velocidade média ($v\\_media$) é dada por $v\\_media = \\frac{distancia}{tempo}$ . Escreva um programa em Python para calcular a velocidade média necessária para completar a maratona em 3 horas.\n",
    "\n",
    "**Calcule e imprima o resultado em metros/segundo**, ou seja, converta a distância de quilômetros para metros ($metro = \\frac{km}{1000}$) e a velocidade de horas para segundos $(segundo = \\frac{hora}{3600})$."
   ]
  },
  {
   "cell_type": "code",
   "execution_count": null,
   "metadata": {},
   "outputs": [],
   "source": []
  },
  {
   "cell_type": "code",
   "execution_count": 2,
   "metadata": {
    "id": "Bn6l8kcSrE4L"
   },
   "outputs": [
    {
     "name": "stdout",
     "output_type": "stream",
     "text": [
      " A velocidade média necessária para completar a maratona em 3 horas é de  3.91 m/s.\n"
     ]
    }
   ],
   "source": [
    "## Escreva e execute\n",
    "#distancia da maratona#\n",
    "distancia_total_km = 42.195\n",
    "\n",
    "#convertendo distancia para metro\n",
    "distancia_m = distancia_total_km * 1000\n",
    "\n",
    "#tempo total em horas\n",
    "tempo_horas = 3\n",
    "\n",
    "#convertendo tempo horas em segundos\n",
    "tempo_segundos = tempo_horas *3600\n",
    "\n",
    "# calculando a velocidade media em metros por segundo\n",
    "velocidade_media = distancia_m / tempo_segundos\n",
    "\n",
    "#imprimindo o resultado\n",
    "print(f\" A velocidade média necessária para completar a maratona em 3 horas é de {velocidade_media: .2f} m/s.\")\n"
   ]
  },
  {
   "cell_type": "code",
   "execution_count": null,
   "metadata": {},
   "outputs": [],
   "source": []
  }
 ],
 "metadata": {
  "colab": {
   "provenance": []
  },
  "kernelspec": {
   "display_name": "anaconda-panel-2023.05-py310",
   "language": "python",
   "name": "conda-env-anaconda-panel-2023.05-py310-py"
  },
  "language_info": {
   "codemirror_mode": {
    "name": "ipython",
    "version": 3
   },
   "file_extension": ".py",
   "mimetype": "text/x-python",
   "name": "python",
   "nbconvert_exporter": "python",
   "pygments_lexer": "ipython3",
   "version": "3.11.5"
  }
 },
 "nbformat": 4,
 "nbformat_minor": 4
}
